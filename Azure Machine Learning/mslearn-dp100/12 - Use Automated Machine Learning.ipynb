{
 "cells": [
  {
   "cell_type": "markdown",
   "metadata": {},
   "source": [
    "# Use Automated Machine Learning\n",
    "\n",
    "There are many kinds of machine learning algorithm that you can use to train a model, and sometimes it's not easy to determine the most effective algorithm for your particular data and prediction requirements. Additionally, you can significantly affect the predictive performance of a model by preprocessing the training data, using techniques such as normalization, missing feature imputation, and others. In your quest to find the *best* model for your requirements, you may need to try many combinations of algorithms and preprocessing transformations; which takes a lot of time and compute resources.\n",
    "\n",
    "Azure Machine Learning enables you to automate the comparison of models trained using different algorithms and preprocessing options. You can use the visual interface in [Azure Machine Learning studio](https://ml/azure.com) or the SDK to leverage this capability. The SDK gives you greater control over the settings for the automated machine learning experiment, but the visual interface is easier to use.\n",
    "\n",
    "## Before you start\n",
    "\n",
    "In addition to the latest version of the **azureml-sdk** and **azureml-widgets** packages, you'll need the **azureml-train-automl** package to run the code in this notebook. Run the cell below to verify that it is installed."
   ]
  },
  {
   "cell_type": "code",
   "execution_count": 1,
   "metadata": {},
   "outputs": [
    {
     "name": "stdout",
     "output_type": "stream",
     "text": [
      "Name: azureml-train-automl\r\n",
      "Version: 1.37.0\r\n",
      "Summary: Used for automatically finding the best machine learning model and its parameters.\r\n",
      "Home-page: https://docs.microsoft.com/python/api/overview/azure/ml/?view=azure-ml-py\r\n",
      "Author: Microsoft Corp\r\n",
      "Author-email: None\r\n",
      "License: https://aka.ms/azureml-sdk-license\r\n",
      "Location: /anaconda/envs/azureml_py36/lib/python3.6/site-packages\r\n",
      "Requires: azureml-train-automl-runtime, azureml-automl-runtime, azureml-train-automl-client, azureml-dataset-runtime, azureml-automl-core\r\n",
      "Required-by: azureml-automl-dnn-nlp\r\n"
     ]
    }
   ],
   "source": [
    "!pip show azureml-train-automl"
   ]
  },
  {
   "cell_type": "markdown",
   "metadata": {},
   "source": [
    "## Connect to your workspace\n",
    "\n",
    "With the required SDK packages installed, now you're ready to connect to your workspace.\n",
    "\n",
    "> **Note**: If you haven't already established an authenticated session with your Azure subscription, you'll be prompted to authenticate by clicking a link, entering an authentication code, and signing into Azure."
   ]
  },
  {
   "cell_type": "code",
   "execution_count": 2,
   "metadata": {},
   "outputs": [
    {
     "name": "stdout",
     "output_type": "stream",
     "text": [
      "Ready to use Azure ML 1.37.0 to work with mlresource-aml\n"
     ]
    }
   ],
   "source": [
    "import azureml.core\n",
    "from azureml.core import Workspace\n",
    "\n",
    "# Load the workspace from the saved config file\n",
    "ws = Workspace.from_config()\n",
    "print('Ready to use Azure ML {} to work with {}'.format(azureml.core.VERSION, ws.name))"
   ]
  },
  {
   "cell_type": "markdown",
   "metadata": {},
   "source": [
    "## Prepare data\n",
    "\n",
    "You don't need to create a training script for automated machine learning, but you do need to load the training data. In this case, you'll use a dataset containing details of diabetes patients, and then split this into two datasets: one for training, and another for model validation."
   ]
  },
  {
   "cell_type": "code",
   "execution_count": 3,
   "metadata": {},
   "outputs": [
    {
     "name": "stdout",
     "output_type": "stream",
     "text": [
      "Dataset already registered.\n",
      "Data ready!\n"
     ]
    }
   ],
   "source": [
    "from azureml.core import Dataset\n",
    "\n",
    "default_ds = ws.get_default_datastore()\n",
    "\n",
    "if 'diabetes dataset' not in ws.datasets:\n",
    "    default_ds.upload_files(files=['./data/diabetes.csv', './data/diabetes2.csv'], # Upload the diabetes csv files in /data\n",
    "                        target_path='diabetes-data/', # Put it in a folder path in the datastore\n",
    "                        overwrite=True, # Replace existing files of the same name\n",
    "                        show_progress=True)\n",
    "\n",
    "    #Create a tabular dataset from the path on the datastore (this may take a short while)\n",
    "    tab_data_set = Dataset.Tabular.from_delimited_files(path=(default_ds, 'diabetes-data/*.csv'))\n",
    "\n",
    "    # Register the tabular dataset\n",
    "    try:\n",
    "        tab_data_set = tab_data_set.register(workspace=ws, \n",
    "                                name='diabetes dataset',\n",
    "                                description='diabetes data',\n",
    "                                tags = {'format':'CSV'},\n",
    "                                create_new_version=True)\n",
    "        print('Dataset registered.')\n",
    "    except Exception as ex:\n",
    "        print(ex)\n",
    "else:\n",
    "    print('Dataset already registered.')\n",
    "\n",
    "\n",
    "# Split the dataset into training and validation subsets\n",
    "diabetes_ds = ws.datasets.get(\"diabetes dataset\")\n",
    "train_ds, test_ds = diabetes_ds.random_split(percentage=0.7, seed=123)\n",
    "print(\"Data ready!\")"
   ]
  },
  {
   "cell_type": "markdown",
   "metadata": {},
   "source": [
    "## Prepare compute\n",
    "\n",
    "One of the benefits of cloud compute is that it scales on-demand, enabling you to provision enough compute resources to process multiple child-runs of an automated machine learning experiment in parallel.\n",
    "\n",
    "Use the following code to specify an Azure Machine Learning compute cluster (it will be created if it doesn't already exist)..\n",
    "\n",
    "> **Important**: Change *your-compute-cluster* to the name of your compute cluster in the code below before running it! Cluster names must be globally unique names between 2 to 16 characters in length. Valid characters are letters, digits, and the - character."
   ]
  },
  {
   "cell_type": "code",
   "execution_count": 4,
   "metadata": {},
   "outputs": [
    {
     "name": "stdout",
     "output_type": "stream",
     "text": [
      "Found existing cluster, use it.\n"
     ]
    }
   ],
   "source": [
    "from azureml.core.compute import ComputeTarget, AmlCompute\n",
    "from azureml.core.compute_target import ComputeTargetException\n",
    "\n",
    "cluster_name = \"mlnodeclustr-alv\"\n",
    "\n",
    "try:\n",
    "    # Check for existing compute target\n",
    "    training_cluster = ComputeTarget(workspace=ws, name=cluster_name)\n",
    "    print('Found existing cluster, use it.')\n",
    "except ComputeTargetException:\n",
    "    # If it doesn't already exist, create it\n",
    "    try:\n",
    "        compute_config = AmlCompute.provisioning_configuration(vm_size='STANDARD_DS11_V2', max_nodes=2)\n",
    "        training_cluster = ComputeTarget.create(ws, cluster_name, compute_config)\n",
    "        training_cluster.wait_for_completion(show_output=True)\n",
    "    except Exception as ex:\n",
    "        print(ex)\n",
    "    "
   ]
  },
  {
   "cell_type": "markdown",
   "metadata": {},
   "source": [
    "> **Note**: Compute instances and clusters are based on standard Azure virtual machine images. For this exercise, the *Standard_DS11_v2* image is recommended to achieve the optimal balance of cost and performance. If your subscription has a quota that does not include this image, choose an alternative image; but bear in mind that a larger image may incur higher cost and a smaller image may not be sufficient to complete the tasks. Alternatively, ask your Azure administrator to extend your quota.\n",
    "\n",
    "## Configure automated machine learning\n",
    "\n",
    "Now you're ready to configure the automated machine learning experiment.\n",
    "\n",
    "One of the most important configuration settings is the metric by which model performance should be evaluated. You can retrieve a list of the metrics that are calculated by automated machine learning for a particular type of model task (classification or regression) like this:"
   ]
  },
  {
   "cell_type": "code",
   "execution_count": 5,
   "metadata": {},
   "outputs": [
    {
     "name": "stdout",
     "output_type": "stream",
     "text": [
      "precision_score_weighted\n",
      "accuracy\n",
      "average_precision_score_weighted\n",
      "norm_macro_recall\n",
      "AUC_weighted\n"
     ]
    }
   ],
   "source": [
    "import azureml.train.automl.utilities as automl_utils\n",
    "\n",
    "for metric in automl_utils.get_primary_metrics('classification'):\n",
    "    print(metric)"
   ]
  },
  {
   "cell_type": "markdown",
   "metadata": {},
   "source": [
    "Having decided the metric you want to optimize (in this example, *AUC_weighted*), you can configure the automated machine learning run. To do this, you'll need an AutoML configuration that specifies the target metric as well as options like the data to use, how many combinations to try, and so on.\n",
    "\n",
    "> **Note**: In this example, you'll restrict the experiment to 4 iterations to reduce the amount of time taken. In reality, you'd likely try many more iterations."
   ]
  },
  {
   "cell_type": "code",
   "execution_count": 6,
   "metadata": {},
   "outputs": [
    {
     "name": "stdout",
     "output_type": "stream",
     "text": [
      "Ready for Auto ML run.\n"
     ]
    }
   ],
   "source": [
    "from azureml.train.automl import AutoMLConfig\n",
    "\n",
    "automl_config = AutoMLConfig(name='Automated ML Experiment',\n",
    "                             task='classification',\n",
    "                             compute_target=training_cluster,\n",
    "                             training_data = train_ds,\n",
    "                             validation_data = test_ds,\n",
    "                             label_column_name='Diabetic',\n",
    "                             iterations=4,\n",
    "                             primary_metric = 'AUC_weighted',\n",
    "                             max_concurrent_iterations=2,\n",
    "                             featurization='auto'\n",
    "                             )\n",
    "\n",
    "print(\"Ready for Auto ML run.\")"
   ]
  },
  {
   "cell_type": "markdown",
   "metadata": {},
   "source": [
    "## Run an automated machine learning experiment\n",
    "\n",
    "OK, you're ready to go. Let's run the automated machine learning experiment.\n",
    "\n",
    "> **Note**: This may take some time!"
   ]
  },
  {
   "cell_type": "code",
   "execution_count": 7,
   "metadata": {
    "scrolled": true
   },
   "outputs": [
    {
     "name": "stdout",
     "output_type": "stream",
     "text": [
      "Submitting Auto ML experiment...\n",
      "Submitting remote run.\n"
     ]
    },
    {
     "data": {
      "text/html": [
       "<table style=\"width:100%\"><tr><th>Experiment</th><th>Id</th><th>Type</th><th>Status</th><th>Details Page</th><th>Docs Page</th></tr><tr><td>mslearn-diabetes-automl-sdk</td><td>AutoML_0e4f28fb-20a4-431d-b85d-b105919a0920</td><td>automl</td><td>NotStarted</td><td><a href=\"https://ml.azure.com/runs/AutoML_0e4f28fb-20a4-431d-b85d-b105919a0920?wsid=/subscriptions/b55b31b5-96d1-46b1-b8df-55cda31eae9f/resourcegroups/mlresourcegroup/workspaces/mlresource-aml&amp;tid=0b9b90da-3fe1-457a-b340-f1b67e1024fb\" target=\"_blank\" rel=\"noopener\">Link to Azure Machine Learning studio</a></td><td><a href=\"https://docs.microsoft.com/en-us/python/api/overview/azure/ml/intro?view=azure-ml-py\" target=\"_blank\" rel=\"noopener\">Link to Documentation</a></td></tr></table>"
      ],
      "text/plain": [
       "<IPython.core.display.HTML object>"
      ]
     },
     "metadata": {},
     "output_type": "display_data"
    },
    {
     "data": {
      "application/vnd.jupyter.widget-view+json": {
       "model_id": "c473186ecbb24bb197c369f471bdb590",
       "version_major": 2,
       "version_minor": 0
      },
      "text/plain": [
       "_AutoMLWidget(widget_settings={'childWidgetDisplay': 'popup', 'send_telemetry': False, 'log_level': 'INFO', 's…"
      ]
     },
     "metadata": {},
     "output_type": "display_data"
    },
    {
     "data": {
      "application/aml.mini.widget.v1": "{\"status\": \"Completed\", \"workbench_run_details_uri\": \"https://ml.azure.com/runs/AutoML_0e4f28fb-20a4-431d-b85d-b105919a0920?wsid=/subscriptions/b55b31b5-96d1-46b1-b8df-55cda31eae9f/resourcegroups/mlresourcegroup/workspaces/mlresource-aml&tid=0b9b90da-3fe1-457a-b340-f1b67e1024fb\", \"run_id\": \"AutoML_0e4f28fb-20a4-431d-b85d-b105919a0920\", \"run_properties\": {\"run_id\": \"AutoML_0e4f28fb-20a4-431d-b85d-b105919a0920\", \"created_utc\": \"2022-02-09T18:47:02.102151Z\", \"properties\": {\"num_iterations\": \"4\", \"training_type\": \"TrainFull\", \"acquisition_function\": \"EI\", \"primary_metric\": \"AUC_weighted\", \"train_split\": \"0\", \"acquisition_parameter\": \"0\", \"num_cross_validation\": null, \"target\": \"mlnodeclustr-alv\", \"AMLSettingsJsonString\": \"{\\\"path\\\":null,\\\"name\\\":\\\"Automated ML Experiment\\\",\\\"subscription_id\\\":\\\"b55b31b5-96d1-46b1-b8df-55cda31eae9f\\\",\\\"resource_group\\\":\\\"mlresourcegroup\\\",\\\"workspace_name\\\":\\\"mlresource-aml\\\",\\\"region\\\":\\\"eastus\\\",\\\"compute_target\\\":\\\"mlnodeclustr-alv\\\",\\\"spark_service\\\":null,\\\"azure_service\\\":\\\"remote\\\",\\\"many_models\\\":false,\\\"pipeline_fetch_max_batch_size\\\":1,\\\"enable_batch_run\\\":true,\\\"enable_run_restructure\\\":false,\\\"start_auxiliary_runs_before_parent_complete\\\":false,\\\"enable_code_generation\\\":false,\\\"iterations\\\":4,\\\"primary_metric\\\":\\\"AUC_weighted\\\",\\\"task_type\\\":\\\"classification\\\",\\\"positive_label\\\":null,\\\"data_script\\\":null,\\\"test_size\\\":0.0,\\\"test_include_predictions_only\\\":false,\\\"validation_size\\\":0.0,\\\"n_cross_validations\\\":null,\\\"y_min\\\":null,\\\"y_max\\\":null,\\\"num_classes\\\":null,\\\"featurization\\\":\\\"auto\\\",\\\"_ignore_package_version_incompatibilities\\\":false,\\\"is_timeseries\\\":false,\\\"max_cores_per_iteration\\\":1,\\\"max_concurrent_iterations\\\":2,\\\"iteration_timeout_minutes\\\":null,\\\"mem_in_mb\\\":null,\\\"enforce_time_on_windows\\\":false,\\\"experiment_timeout_minutes\\\":8640,\\\"experiment_exit_score\\\":null,\\\"whitelist_models\\\":null,\\\"blacklist_algos\\\":[\\\"TensorFlowLinearClassifier\\\",\\\"TensorFlowDNN\\\"],\\\"supported_models\\\":[\\\"XGBoostClassifier\\\",\\\"BernoulliNaiveBayes\\\",\\\"GradientBoosting\\\",\\\"TensorFlowDNN\\\",\\\"LogisticRegression\\\",\\\"TensorFlowLinearClassifier\\\",\\\"AveragedPerceptronClassifier\\\",\\\"RandomForest\\\",\\\"DecisionTree\\\",\\\"ExtremeRandomTrees\\\",\\\"LightGBM\\\",\\\"SVM\\\",\\\"KNN\\\",\\\"LinearSVM\\\",\\\"SGD\\\",\\\"MultinomialNaiveBayes\\\"],\\\"private_models\\\":[\\\"TabnetClassifier\\\"],\\\"auto_blacklist\\\":true,\\\"blacklist_samples_reached\\\":false,\\\"exclude_nan_labels\\\":true,\\\"verbosity\\\":20,\\\"_debug_log\\\":\\\"azureml_automl.log\\\",\\\"show_warnings\\\":false,\\\"model_explainability\\\":true,\\\"service_url\\\":null,\\\"sdk_url\\\":null,\\\"sdk_packages\\\":null,\\\"enable_onnx_compatible_models\\\":false,\\\"enable_split_onnx_featurizer_estimator_models\\\":false,\\\"vm_type\\\":\\\"STANDARD_DS11_V2\\\",\\\"telemetry_verbosity\\\":20,\\\"send_telemetry\\\":true,\\\"enable_dnn\\\":false,\\\"scenario\\\":\\\"SDK-1.13.0\\\",\\\"environment_label\\\":null,\\\"save_mlflow\\\":false,\\\"enable_categorical_indicators\\\":false,\\\"force_text_dnn\\\":false,\\\"enable_feature_sweeping\\\":true,\\\"enable_early_stopping\\\":true,\\\"early_stopping_n_iters\\\":10,\\\"arguments\\\":null,\\\"dataset_id\\\":null,\\\"hyperdrive_config\\\":null,\\\"validation_dataset_id\\\":null,\\\"run_source\\\":null,\\\"metrics\\\":null,\\\"enable_metric_confidence\\\":false,\\\"enable_ensembling\\\":true,\\\"enable_stack_ensembling\\\":true,\\\"ensemble_iterations\\\":4,\\\"enable_tf\\\":false,\\\"enable_subsampling\\\":false,\\\"subsample_seed\\\":null,\\\"enable_nimbusml\\\":false,\\\"enable_streaming\\\":false,\\\"force_streaming\\\":false,\\\"track_child_runs\\\":true,\\\"allowed_private_models\\\":[],\\\"label_column_name\\\":\\\"Diabetic\\\",\\\"weight_column_name\\\":null,\\\"cv_split_column_names\\\":null,\\\"enable_local_managed\\\":false,\\\"_local_managed_run_id\\\":null,\\\"cost_mode\\\":1,\\\"lag_length\\\":0,\\\"metric_operation\\\":\\\"maximize\\\",\\\"preprocess\\\":true}\", \"DataPrepJsonString\": \"{\\\\\\\"training_data\\\\\\\": {\\\\\\\"datasetId\\\\\\\": \\\\\\\"44827cdb-6fd0-40df-a255-15921ebfb265\\\\\\\"}, \\\\\\\"validation_data\\\\\\\": {\\\\\\\"datasetId\\\\\\\": \\\\\\\"f1025271-93d9-4c81-a13a-105f2ab07ddf\\\\\\\"}, \\\\\\\"datasets\\\\\\\": 0}\", \"EnableSubsampling\": \"False\", \"runTemplate\": \"AutoML\", \"azureml.runsource\": \"automl\", \"display_task_type\": \"classification\", \"dependencies_versions\": \"{\\\"azureml-widgets\\\": \\\"1.37.0\\\", \\\"azureml-train\\\": \\\"1.37.0\\\", \\\"azureml-train-restclients-hyperdrive\\\": \\\"1.37.0\\\", \\\"azureml-train-core\\\": \\\"1.37.0\\\", \\\"azureml-train-automl\\\": \\\"1.37.0\\\", \\\"azureml-train-automl-runtime\\\": \\\"1.37.0\\\", \\\"azureml-train-automl-client\\\": \\\"1.37.0\\\", \\\"azureml-tensorboard\\\": \\\"1.37.0\\\", \\\"azureml-telemetry\\\": \\\"1.37.0\\\", \\\"azureml-sdk\\\": \\\"1.37.0\\\", \\\"azureml-samples\\\": \\\"0+unknown\\\", \\\"azureml-responsibleai\\\": \\\"1.37.0\\\", \\\"azureml-pipeline\\\": \\\"1.37.0\\\", \\\"azureml-pipeline-steps\\\": \\\"1.37.0\\\", \\\"azureml-pipeline-core\\\": \\\"1.37.0\\\", \\\"azureml-opendatasets\\\": \\\"1.37.0\\\", \\\"azureml-mlflow\\\": \\\"1.37.0\\\", \\\"azureml-interpret\\\": \\\"1.37.0\\\", \\\"azureml-inference-server-http\\\": \\\"0.4.2\\\", \\\"azureml-explain-model\\\": \\\"1.37.0\\\", \\\"azureml-defaults\\\": \\\"1.37.0\\\", \\\"azureml-dataset-runtime\\\": \\\"1.37.0\\\", \\\"azureml-dataprep\\\": \\\"2.25.0\\\", \\\"azureml-dataprep-rslex\\\": \\\"2.1.0\\\", \\\"azureml-dataprep-native\\\": \\\"38.0.0\\\", \\\"azureml-datadrift\\\": \\\"1.37.0\\\", \\\"azureml-core\\\": \\\"1.37.0\\\", \\\"azureml-contrib-services\\\": \\\"1.37.0\\\", \\\"azureml-contrib-server\\\": \\\"1.37.0\\\", \\\"azureml-contrib-reinforcementlearning\\\": \\\"1.37.0\\\", \\\"azureml-contrib-pipeline-steps\\\": \\\"1.37.0\\\", \\\"azureml-contrib-notebook\\\": \\\"1.37.0\\\", \\\"azureml-contrib-fairness\\\": \\\"1.37.0\\\", \\\"azureml-contrib-dataset\\\": \\\"1.37.0\\\", \\\"azureml-contrib-automl-pipeline-steps\\\": \\\"1.37.0\\\", \\\"azureml-cli-common\\\": \\\"1.37.0\\\", \\\"azureml-automl-runtime\\\": \\\"1.37.0\\\", \\\"azureml-automl-dnn-nlp\\\": \\\"1.37.0\\\", \\\"azureml-automl-core\\\": \\\"1.37.0\\\", \\\"azureml-accel-models\\\": \\\"1.37.0\\\"}\", \"_aml_system_scenario_identification\": \"Remote.Parent\", \"ClientType\": \"SDK\", \"environment_cpu_name\": \"AzureML-AutoML\", \"environment_cpu_label\": \"py36\", \"environment_gpu_name\": \"AzureML-AutoML-GPU\", \"environment_gpu_label\": \"py36\", \"root_attribution\": \"automl\", \"attribution\": \"AutoML\", \"Orchestrator\": \"AutoML\", \"CancelUri\": \"https://eastus.api.azureml.ms/jasmine/v1.0/subscriptions/b55b31b5-96d1-46b1-b8df-55cda31eae9f/resourceGroups/mlresourcegroup/providers/Microsoft.MachineLearningServices/workspaces/mlresource-aml/experimentids/9e4e4b25-a991-4bd1-9018-ecf4cc15715b/cancel/AutoML_0e4f28fb-20a4-431d-b85d-b105919a0920\", \"azureml.git.repository_uri\": \"https://github.com/MicrosoftLearning/mslearn-dp100\", \"mlflow.source.git.repoURL\": \"https://github.com/MicrosoftLearning/mslearn-dp100\", \"azureml.git.branch\": \"main\", \"mlflow.source.git.branch\": \"main\", \"azureml.git.commit\": \"2f312026ea2eaff775c748f1d06f244f1f9ac4e8\", \"mlflow.source.git.commit\": \"2f312026ea2eaff775c748f1d06f244f1f9ac4e8\", \"azureml.git.dirty\": \"True\", \"ClientSdkVersion\": \"1.38.0\", \"snapshotId\": \"00000000-0000-0000-0000-000000000000\", \"SetupRunId\": \"AutoML_0e4f28fb-20a4-431d-b85d-b105919a0920_setup\", \"SetupRunContainerId\": \"dcid.AutoML_0e4f28fb-20a4-431d-b85d-b105919a0920_setup\", \"FeaturizationRunJsonPath\": \"featurizer_container.json\", \"FeaturizationRunId\": \"AutoML_0e4f28fb-20a4-431d-b85d-b105919a0920_featurize\", \"ProblemInfoJsonString\": \"{\\\"dataset_num_categorical\\\": 0, \\\"is_sparse\\\": true, \\\"subsampling\\\": false, \\\"has_extra_col\\\": true, \\\"dataset_classes\\\": 2, \\\"dataset_features\\\": 23, \\\"dataset_samples\\\": 10555, \\\"single_frequency_class_detected\\\": false}\", \"ModelExplainRunId\": \"AutoML_0e4f28fb-20a4-431d-b85d-b105919a0920_ModelExplain\"}, \"tags\": {\"model_explain_run\": \"best_run\", \"_aml_system_azureml.automlComponent\": \"AutoML\", \"pipeline_id\": \"\", \"score\": \"\", \"predicted_cost\": \"\", \"fit_time\": \"\", \"training_percent\": \"\", \"iteration\": \"\", \"run_preprocessor\": \"\", \"run_algorithm\": \"\", \"automl_best_child_run_id\": \"AutoML_0e4f28fb-20a4-431d-b85d-b105919a0920_0\", \"model_explain_best_run_child_id\": \"AutoML_0e4f28fb-20a4-431d-b85d-b105919a0920_0\"}, \"end_time_utc\": \"2022-02-09T19:07:15.376209Z\", \"status\": \"Completed\", \"log_files\": {}, \"log_groups\": [], \"run_duration\": \"0:20:13\", \"run_number\": \"1644432422\", \"run_queued_details\": {\"status\": \"Completed\", \"details\": null}}, \"child_runs\": [{\"run_id\": \"AutoML_0e4f28fb-20a4-431d-b85d-b105919a0920_setup\", \"run_number\": 1644432435, \"metric\": null, \"status\": \"Completed\", \"run_type\": \"azureml.scriptrun\", \"training_percent\": null, \"start_time\": \"2022-02-09T19:01:45.203123Z\", \"end_time\": \"2022-02-09T19:02:34.058424Z\", \"created_time\": \"2022-02-09T18:47:15.213198Z\", \"created_time_dt\": \"2022-02-09T18:47:15.213198Z\", \"duration\": \"0:15:18\", \"iteration\": null, \"goal\": null, \"run_name\": \"Completed\", \"run_properties\": null}, {\"run_id\": \"AutoML_0e4f28fb-20a4-431d-b85d-b105919a0920_featurize\", \"run_number\": 1644433354, \"metric\": null, \"status\": \"Completed\", \"run_type\": \"automl.featurization\", \"training_percent\": null, \"start_time\": \"2022-02-09T19:02:34.988355Z\", \"end_time\": \"2022-02-09T19:03:23.617267Z\", \"created_time\": \"2022-02-09T19:02:34.568314Z\", \"created_time_dt\": \"2022-02-09T19:02:34.568314Z\", \"duration\": \"0:00:49\", \"iteration\": null, \"goal\": null, \"run_name\": \"Completed\", \"run_properties\": null}, {\"run_id\": \"AutoML_0e4f28fb-20a4-431d-b85d-b105919a0920_1\", \"run_number\": 1644433406, \"metric\": null, \"status\": \"Completed\", \"run_type\": null, \"training_percent\": \"100\", \"start_time\": \"2022-02-09T19:03:55.870076Z\", \"end_time\": \"2022-02-09T19:04:04.288841Z\", \"created_time\": \"2022-02-09T19:03:26.952805Z\", \"created_time_dt\": \"2022-02-09T19:03:26.952805Z\", \"duration\": \"0:00:37\", \"iteration\": \"1\", \"goal\": \"AUC_weighted_max\", \"run_name\": \"MaxAbsScaler, XGBoostClassifier\", \"run_properties\": \"copy=True\", \"primary_metric\": 0.98822706, \"best_metric\": 0.98822706}, {\"run_id\": \"AutoML_0e4f28fb-20a4-431d-b85d-b105919a0920_worker_1\", \"run_number\": 1644433407, \"metric\": null, \"status\": \"Completed\", \"run_type\": \"azureml.scriptrun\", \"training_percent\": null, \"start_time\": \"2022-02-09T19:04:05.434322Z\", \"end_time\": \"2022-02-09T19:04:09.139642Z\", \"created_time\": \"2022-02-09T19:03:27.238328Z\", \"created_time_dt\": \"2022-02-09T19:03:27.238328Z\", \"duration\": \"0:00:41\", \"iteration\": null, \"goal\": null, \"run_name\": \"Completed\", \"run_properties\": null}, {\"run_id\": \"AutoML_0e4f28fb-20a4-431d-b85d-b105919a0920_2\", \"run_number\": 1644433505, \"metric\": null, \"status\": \"Completed\", \"run_type\": \"azureml.scriptrun\", \"training_percent\": \"100\", \"start_time\": \"2022-02-09T19:06:11.334851Z\", \"end_time\": \"2022-02-09T19:06:15.089279Z\", \"created_time\": \"2022-02-09T19:05:05.097225Z\", \"created_time_dt\": \"2022-02-09T19:05:05.097225Z\", \"duration\": \"0:01:09\", \"iteration\": \"2\", \"goal\": \"AUC_weighted_max\", \"run_name\": \"VotingEnsemble\", \"run_properties\": \"\\n    estimators=[('0', Pipeline(\\n        memory=None,\\n        steps=[('maxabsscaler', MaxAbsScaler(\\n            copy=True\\n        \", \"primary_metric\": 0.99029273, \"best_metric\": 0.99029273}], \"children_metrics\": {\"categories\": [0], \"series\": {\"weighted_accuracy\": [{\"categories\": [\"1\", \"2\"], \"mode\": \"markers\", \"name\": \"weighted_accuracy\", \"stepped\": false, \"type\": \"scatter\", \"data\": [0.951311550164289, 0.9579185290093026]}, {\"categories\": [\"1\", \"2\"], \"mode\": \"lines\", \"name\": \"weighted_accuracy_max\", \"stepped\": true, \"type\": \"scatter\", \"data\": [0.951311550164289, 0.9579185290093026]}], \"accuracy\": [{\"categories\": [\"1\", \"2\"], \"mode\": \"markers\", \"name\": \"accuracy\", \"stepped\": false, \"type\": \"scatter\", \"data\": [0.944206974128234, 0.9523059617547807]}, {\"categories\": [\"1\", \"2\"], \"mode\": \"lines\", \"name\": \"accuracy_max\", \"stepped\": true, \"type\": \"scatter\", \"data\": [0.944206974128234, 0.9523059617547807]}], \"AUC_macro\": [{\"categories\": [\"1\", \"2\"], \"mode\": \"markers\", \"name\": \"AUC_macro\", \"stepped\": false, \"type\": \"scatter\", \"data\": [0.9882270647231617, 0.9902927339233878]}, {\"categories\": [\"1\", \"2\"], \"mode\": \"lines\", \"name\": \"AUC_macro_max\", \"stepped\": true, \"type\": \"scatter\", \"data\": [0.9882270647231617, 0.9902927339233878]}], \"recall_score_macro\": [{\"categories\": [\"1\", \"2\"], \"mode\": \"markers\", \"name\": \"recall_score_macro\", \"stepped\": false, \"type\": \"scatter\", \"data\": [0.9353118302218928, 0.9452788579332958]}, {\"categories\": [\"1\", \"2\"], \"mode\": \"lines\", \"name\": \"recall_score_macro_max\", \"stepped\": true, \"type\": \"scatter\", \"data\": [0.9353118302218928, 0.9452788579332958]}], \"norm_macro_recall\": [{\"categories\": [\"1\", \"2\"], \"mode\": \"markers\", \"name\": \"norm_macro_recall\", \"stepped\": false, \"type\": \"scatter\", \"data\": [0.8706236604437856, 0.8905577158665916]}, {\"categories\": [\"1\", \"2\"], \"mode\": \"lines\", \"name\": \"norm_macro_recall_max\", \"stepped\": true, \"type\": \"scatter\", \"data\": [0.8706236604437856, 0.8905577158665916]}], \"f1_score_micro\": [{\"categories\": [\"1\", \"2\"], \"mode\": \"markers\", \"name\": \"f1_score_micro\", \"stepped\": false, \"type\": \"scatter\", \"data\": [0.944206974128234, 0.9523059617547807]}, {\"categories\": [\"1\", \"2\"], \"mode\": \"lines\", \"name\": \"f1_score_micro_max\", \"stepped\": true, \"type\": \"scatter\", \"data\": [0.944206974128234, 0.9523059617547807]}], \"AUC_weighted\": [{\"categories\": [\"1\", \"2\"], \"mode\": \"markers\", \"name\": \"AUC_weighted\", \"stepped\": false, \"type\": \"scatter\", \"data\": [0.9882270647231618, 0.9902927339233877]}, {\"categories\": [\"1\", \"2\"], \"mode\": \"lines\", \"name\": \"AUC_weighted_max\", \"stepped\": true, \"type\": \"scatter\", \"data\": [0.9882270647231618, 0.9902927339233877]}], \"f1_score_macro\": [{\"categories\": [\"1\", \"2\"], \"mode\": \"markers\", \"name\": \"f1_score_macro\", \"stepped\": false, \"type\": \"scatter\", \"data\": [0.9369393323381163, 0.9461858998080295]}, {\"categories\": [\"1\", \"2\"], \"mode\": \"lines\", \"name\": \"f1_score_macro_max\", \"stepped\": true, \"type\": \"scatter\", \"data\": [0.9369393323381163, 0.9461858998080295]}], \"precision_score_micro\": [{\"categories\": [\"1\", \"2\"], \"mode\": \"markers\", \"name\": \"precision_score_micro\", \"stepped\": false, \"type\": \"scatter\", \"data\": [0.944206974128234, 0.9523059617547807]}, {\"categories\": [\"1\", \"2\"], \"mode\": \"lines\", \"name\": \"precision_score_micro_max\", \"stepped\": true, \"type\": \"scatter\", \"data\": [0.944206974128234, 0.9523059617547807]}], \"recall_score_weighted\": [{\"categories\": [\"1\", \"2\"], \"mode\": \"markers\", \"name\": \"recall_score_weighted\", \"stepped\": false, \"type\": \"scatter\", \"data\": [0.944206974128234, 0.9523059617547807]}, {\"categories\": [\"1\", \"2\"], \"mode\": \"lines\", \"name\": \"recall_score_weighted_max\", \"stepped\": true, \"type\": \"scatter\", \"data\": [0.944206974128234, 0.9523059617547807]}], \"precision_score_weighted\": [{\"categories\": [\"1\", \"2\"], \"mode\": \"markers\", \"name\": \"precision_score_weighted\", \"stepped\": false, \"type\": \"scatter\", \"data\": [0.9440467334517999, 0.9522234676476355]}, {\"categories\": [\"1\", \"2\"], \"mode\": \"lines\", \"name\": \"precision_score_weighted_max\", \"stepped\": true, \"type\": \"scatter\", \"data\": [0.9440467334517999, 0.9522234676476355]}], \"balanced_accuracy\": [{\"categories\": [\"1\", \"2\"], \"mode\": \"markers\", \"name\": \"balanced_accuracy\", \"stepped\": false, \"type\": \"scatter\", \"data\": [0.9353118302218928, 0.9452788579332958]}, {\"categories\": [\"1\", \"2\"], \"mode\": \"lines\", \"name\": \"balanced_accuracy_max\", \"stepped\": true, \"type\": \"scatter\", \"data\": [0.9353118302218928, 0.9452788579332958]}], \"precision_score_macro\": [{\"categories\": [\"1\", \"2\"], \"mode\": \"markers\", \"name\": \"precision_score_macro\", \"stepped\": false, \"type\": \"scatter\", \"data\": [0.9386313269550405, 0.9471122702591099]}, {\"categories\": [\"1\", \"2\"], \"mode\": \"lines\", \"name\": \"precision_score_macro_max\", \"stepped\": true, \"type\": \"scatter\", \"data\": [0.9386313269550405, 0.9471122702591099]}], \"recall_score_micro\": [{\"categories\": [\"1\", \"2\"], \"mode\": \"markers\", \"name\": \"recall_score_micro\", \"stepped\": false, \"type\": \"scatter\", \"data\": [0.944206974128234, 0.9523059617547807]}, {\"categories\": [\"1\", \"2\"], \"mode\": \"lines\", \"name\": \"recall_score_micro_max\", \"stepped\": true, \"type\": \"scatter\", \"data\": [0.944206974128234, 0.9523059617547807]}], \"f1_score_weighted\": [{\"categories\": [\"1\", \"2\"], \"mode\": \"markers\", \"name\": \"f1_score_weighted\", \"stepped\": false, \"type\": \"scatter\", \"data\": [0.9441010177866949, 0.9522569685971016]}, {\"categories\": [\"1\", \"2\"], \"mode\": \"lines\", \"name\": \"f1_score_weighted_max\", \"stepped\": true, \"type\": \"scatter\", \"data\": [0.9441010177866949, 0.9522569685971016]}], \"matthews_correlation\": [{\"categories\": [\"1\", \"2\"], \"mode\": \"markers\", \"name\": \"matthews_correlation\", \"stepped\": false, \"type\": \"scatter\", \"data\": [0.8739368529349385, 0.8923892448229966]}, {\"categories\": [\"1\", \"2\"], \"mode\": \"lines\", \"name\": \"matthews_correlation_max\", \"stepped\": true, \"type\": \"scatter\", \"data\": [0.8739368529349385, 0.8923892448229966]}], \"average_precision_score_micro\": [{\"categories\": [\"1\", \"2\"], \"mode\": \"markers\", \"name\": \"average_precision_score_micro\", \"stepped\": false, \"type\": \"scatter\", \"data\": [0.9898548572689291, 0.9916360004915719]}, {\"categories\": [\"1\", \"2\"], \"mode\": \"lines\", \"name\": \"average_precision_score_micro_max\", \"stepped\": true, \"type\": \"scatter\", \"data\": [0.9898548572689291, 0.9916360004915719]}], \"log_loss\": [{\"categories\": [\"1\", \"2\"], \"mode\": \"markers\", \"name\": \"log_loss\", \"stepped\": false, \"type\": \"scatter\", \"data\": [0.14557718390107108, 0.12239111107696071]}, {\"categories\": [\"1\", \"2\"], \"mode\": \"lines\", \"name\": \"log_loss_min\", \"stepped\": true, \"type\": \"scatter\", \"data\": [0.14557718390107108, 0.12239111107696071]}], \"average_precision_score_macro\": [{\"categories\": [\"1\", \"2\"], \"mode\": \"markers\", \"name\": \"average_precision_score_macro\", \"stepped\": false, \"type\": \"scatter\", \"data\": [0.9863803228939675, 0.9887602234083721]}, {\"categories\": [\"1\", \"2\"], \"mode\": \"lines\", \"name\": \"average_precision_score_macro_max\", \"stepped\": true, \"type\": \"scatter\", \"data\": [0.9863803228939675, 0.9887602234083721]}], \"average_precision_score_weighted\": [{\"categories\": [\"1\", \"2\"], \"mode\": \"markers\", \"name\": \"average_precision_score_weighted\", \"stepped\": false, \"type\": \"scatter\", \"data\": [0.9889316609728803, 0.9908730553007605]}, {\"categories\": [\"1\", \"2\"], \"mode\": \"lines\", \"name\": \"average_precision_score_weighted_max\", \"stepped\": true, \"type\": \"scatter\", \"data\": [0.9889316609728803, 0.9908730553007605]}], \"AUC_micro\": [{\"categories\": [\"1\", \"2\"], \"mode\": \"markers\", \"name\": \"AUC_micro\", \"stepped\": false, \"type\": \"scatter\", \"data\": [0.9896202682201284, 0.991432139598973]}, {\"categories\": [\"1\", \"2\"], \"mode\": \"lines\", \"name\": \"AUC_micro_max\", \"stepped\": true, \"type\": \"scatter\", \"data\": [0.9896202682201284, 0.991432139598973]}]}, \"metricName\": null, \"primaryMetricName\": \"AUC_weighted\", \"showLegend\": false}, \"run_metrics\": [{\"name\": \"experiment_status\", \"run_id\": \"AutoML_0e4f28fb-20a4-431d-b85d-b105919a0920\", \"categories\": [0, 1, 2, 3, 4, 5, 6, 7, 8, 9, 10, 11, 12], \"series\": [{\"data\": [\"DatasetEvaluation\", \"FeaturesGeneration\", \"DatasetFeaturization\", \"DatasetFeaturizationCompleted\", \"ModelSelection\", \"BestRunExplainModel\", \"ModelExplanationDataSetSetup\", \"PickSurrogateModel\", \"EngineeredFeatureExplanations\", \"EngineeredFeatureExplanations\", \"RawFeaturesExplanations\", \"RawFeaturesExplanations\", \"BestRunExplainModel\"]}]}, {\"name\": \"experiment_status_description\", \"run_id\": \"AutoML_0e4f28fb-20a4-431d-b85d-b105919a0920\", \"categories\": [0, 1, 2, 3, 4, 5, 6, 7, 8, 9, 10, 11, 12], \"series\": [{\"data\": [\"Gathering dataset statistics.\", \"Generating features for the dataset.\", \"Beginning to fit featurizers and featurize the dataset.\", \"Completed fit featurizers and featurizing the dataset.\", \"Beginning model selection.\", \"Best run model explanations started\", \"Model explanations data setup completed\", \"Choosing LightGBM as the surrogate model for explanations\", \"Computation of engineered features started\", \"Computation of engineered features completed\", \"Computation of raw features started\", \"Computation of raw features completed\", \"Best run model explanations completed\"]}]}, {\"name\": \"precision_score_macro\", \"run_id\": \"AutoML_0e4f28fb-20a4-431d-b85d-b105919a0920\", \"categories\": [0], \"series\": [{\"data\": [0.9467885716011675]}]}, {\"name\": \"precision_score_micro\", \"run_id\": \"AutoML_0e4f28fb-20a4-431d-b85d-b105919a0920\", \"categories\": [0], \"series\": [{\"data\": [0.9520809898762654]}]}, {\"name\": \"norm_macro_recall\", \"run_id\": \"AutoML_0e4f28fb-20a4-431d-b85d-b105919a0920\", \"categories\": [0], \"series\": [{\"data\": [0.8902205614498688]}]}, {\"name\": \"f1_score_micro\", \"run_id\": \"AutoML_0e4f28fb-20a4-431d-b85d-b105919a0920\", \"categories\": [0], \"series\": [{\"data\": [0.9520809898762654]}]}, {\"name\": \"accuracy\", \"run_id\": \"AutoML_0e4f28fb-20a4-431d-b85d-b105919a0920\", \"categories\": [0], \"series\": [{\"data\": [0.9520809898762654]}]}, {\"name\": \"average_precision_score_macro\", \"run_id\": \"AutoML_0e4f28fb-20a4-431d-b85d-b105919a0920\", \"categories\": [0], \"series\": [{\"data\": [0.9888863976623419]}]}, {\"name\": \"balanced_accuracy\", \"run_id\": \"AutoML_0e4f28fb-20a4-431d-b85d-b105919a0920\", \"categories\": [0], \"series\": [{\"data\": [0.9451102807249344]}]}, {\"name\": \"AUC_micro\", \"run_id\": \"AutoML_0e4f28fb-20a4-431d-b85d-b105919a0920\", \"categories\": [0], \"series\": [{\"data\": [0.9916008305485999]}]}, {\"name\": \"precision_score_weighted\", \"run_id\": \"AutoML_0e4f28fb-20a4-431d-b85d-b105919a0920\", \"categories\": [0], \"series\": [{\"data\": [0.9520038306966419]}]}, {\"name\": \"AUC_weighted\", \"run_id\": \"AutoML_0e4f28fb-20a4-431d-b85d-b105919a0920\", \"categories\": [0], \"series\": [{\"data\": [0.9904812577250306]}]}, {\"name\": \"recall_score_weighted\", \"run_id\": \"AutoML_0e4f28fb-20a4-431d-b85d-b105919a0920\", \"categories\": [0], \"series\": [{\"data\": [0.9520809898762654]}]}, {\"name\": \"average_precision_score_weighted\", \"run_id\": \"AutoML_0e4f28fb-20a4-431d-b85d-b105919a0920\", \"categories\": [0], \"series\": [{\"data\": [0.9910085472336622]}]}, {\"name\": \"matthews_correlation\", \"run_id\": \"AutoML_0e4f28fb-20a4-431d-b85d-b105919a0920\", \"categories\": [0], \"series\": [{\"data\": [0.8918972733002116]}]}, {\"name\": \"f1_score_macro\", \"run_id\": \"AutoML_0e4f28fb-20a4-431d-b85d-b105919a0920\", \"categories\": [0], \"series\": [{\"data\": [0.9459413118209691]}]}, {\"name\": \"weighted_accuracy\", \"run_id\": \"AutoML_0e4f28fb-20a4-431d-b85d-b105919a0920\", \"categories\": [0], \"series\": [{\"data\": [0.9576485145517856]}]}, {\"name\": \"AUC_macro\", \"run_id\": \"AutoML_0e4f28fb-20a4-431d-b85d-b105919a0920\", \"categories\": [0], \"series\": [{\"data\": [0.9904812577250306]}]}, {\"name\": \"recall_score_micro\", \"run_id\": \"AutoML_0e4f28fb-20a4-431d-b85d-b105919a0920\", \"categories\": [0], \"series\": [{\"data\": [0.9520809898762654]}]}, {\"name\": \"recall_score_macro\", \"run_id\": \"AutoML_0e4f28fb-20a4-431d-b85d-b105919a0920\", \"categories\": [0], \"series\": [{\"data\": [0.9451102807249344]}]}, {\"name\": \"log_loss\", \"run_id\": \"AutoML_0e4f28fb-20a4-431d-b85d-b105919a0920\", \"categories\": [0], \"series\": [{\"data\": [0.1186120500342212]}]}, {\"name\": \"average_precision_score_micro\", \"run_id\": \"AutoML_0e4f28fb-20a4-431d-b85d-b105919a0920\", \"categories\": [0], \"series\": [{\"data\": [0.9918359683181054]}]}, {\"name\": \"f1_score_weighted\", \"run_id\": \"AutoML_0e4f28fb-20a4-431d-b85d-b105919a0920\", \"categories\": [0], \"series\": [{\"data\": [0.952035905457969]}]}], \"run_logs\": \"\\nRun is completed.\", \"graph\": {}, \"widget_settings\": {\"childWidgetDisplay\": \"popup\", \"send_telemetry\": false, \"log_level\": \"INFO\", \"sdk_version\": \"1.37.0\"}, \"loading\": false}"
     },
     "metadata": {},
     "output_type": "display_data"
    },
    {
     "data": {
      "text/html": [
       "<table style=\"width:100%\"><tr><th>Experiment</th><th>Id</th><th>Type</th><th>Status</th><th>Details Page</th><th>Docs Page</th></tr><tr><td>mslearn-diabetes-automl-sdk</td><td>AutoML_0e4f28fb-20a4-431d-b85d-b105919a0920</td><td>automl</td><td>NotStarted</td><td><a href=\"https://ml.azure.com/runs/AutoML_0e4f28fb-20a4-431d-b85d-b105919a0920?wsid=/subscriptions/b55b31b5-96d1-46b1-b8df-55cda31eae9f/resourcegroups/mlresourcegroup/workspaces/mlresource-aml&amp;tid=0b9b90da-3fe1-457a-b340-f1b67e1024fb\" target=\"_blank\" rel=\"noopener\">Link to Azure Machine Learning studio</a></td><td><a href=\"https://docs.microsoft.com/en-us/python/api/overview/azure/ml/intro?view=azure-ml-py\" target=\"_blank\" rel=\"noopener\">Link to Documentation</a></td></tr></table>"
      ],
      "text/plain": [
       "<IPython.core.display.HTML object>"
      ]
     },
     "metadata": {},
     "output_type": "display_data"
    },
    {
     "name": "stdout",
     "output_type": "stream",
     "text": [
      "\n",
      "Current status: FeaturesGeneration. Generating features for the dataset.\n",
      "Current status: DatasetFeaturizationCompleted. Completed fit featurizers and featurizing the dataset.\n",
      "Current status: ModelSelection. Beginning model selection.\n",
      "\n",
      "********************************************************************************************\n",
      "DATA GUARDRAILS: \n",
      "\n",
      "TYPE:         Class balancing detection\n",
      "STATUS:       PASSED\n",
      "DESCRIPTION:  Your inputs were analyzed, and all classes are balanced in your training data.\n",
      "              Learn more about imbalanced data: https://aka.ms/AutomatedMLImbalancedData\n",
      "\n",
      "********************************************************************************************\n",
      "\n",
      "TYPE:         Missing feature values imputation\n",
      "STATUS:       PASSED\n",
      "DESCRIPTION:  No feature missing values were detected in the training data.\n",
      "              Learn more about missing value imputation: https://aka.ms/AutomatedMLFeaturization\n",
      "\n",
      "********************************************************************************************\n",
      "\n",
      "TYPE:         High cardinality feature detection\n",
      "STATUS:       PASSED\n",
      "DESCRIPTION:  Your inputs were analyzed, and no high cardinality features were detected.\n",
      "              Learn more about high cardinality feature handling: https://aka.ms/AutomatedMLFeaturization\n",
      "\n",
      "********************************************************************************************\n",
      "\n",
      "********************************************************************************************\n",
      "ITER: The iteration being evaluated.\n",
      "PIPELINE: A summary description of the pipeline being evaluated.\n",
      "DURATION: Time taken for the current iteration.\n",
      "METRIC: The result of computing score on the fitted pipeline.\n",
      "BEST: The best observed score thus far.\n",
      "********************************************************************************************\n",
      "\n",
      " ITER   PIPELINE                                       DURATION            METRIC      BEST\n",
      "    1   MaxAbsScaler XGBoostClassifier                 0:00:08             0.9882    0.9882\n",
      "    0   MaxAbsScaler LightGBM                          0:00:08             0.9905    0.9905\n",
      "    2    VotingEnsemble                                0:00:04             0.9903    0.9905\n",
      "    3    StackEnsemble                                 0:00:04             0.9900    0.9905\n"
     ]
    },
    {
     "data": {
      "text/plain": [
       "{'runId': 'AutoML_0e4f28fb-20a4-431d-b85d-b105919a0920',\n",
       " 'target': 'mlnodeclustr-alv',\n",
       " 'status': 'Completed',\n",
       " 'startTimeUtc': '2022-02-09T18:47:37.961661Z',\n",
       " 'endTimeUtc': '2022-02-09T19:07:15.376209Z',\n",
       " 'services': {},\n",
       " 'properties': {'num_iterations': '4',\n",
       "  'training_type': 'TrainFull',\n",
       "  'acquisition_function': 'EI',\n",
       "  'primary_metric': 'AUC_weighted',\n",
       "  'train_split': '0',\n",
       "  'acquisition_parameter': '0',\n",
       "  'num_cross_validation': None,\n",
       "  'target': 'mlnodeclustr-alv',\n",
       "  'AMLSettingsJsonString': '{\"path\":null,\"name\":\"Automated ML Experiment\",\"subscription_id\":\"b55b31b5-96d1-46b1-b8df-55cda31eae9f\",\"resource_group\":\"mlresourcegroup\",\"workspace_name\":\"mlresource-aml\",\"region\":\"eastus\",\"compute_target\":\"mlnodeclustr-alv\",\"spark_service\":null,\"azure_service\":\"remote\",\"many_models\":false,\"pipeline_fetch_max_batch_size\":1,\"enable_batch_run\":true,\"enable_run_restructure\":false,\"start_auxiliary_runs_before_parent_complete\":false,\"enable_code_generation\":false,\"iterations\":4,\"primary_metric\":\"AUC_weighted\",\"task_type\":\"classification\",\"positive_label\":null,\"data_script\":null,\"test_size\":0.0,\"test_include_predictions_only\":false,\"validation_size\":0.0,\"n_cross_validations\":null,\"y_min\":null,\"y_max\":null,\"num_classes\":null,\"featurization\":\"auto\",\"_ignore_package_version_incompatibilities\":false,\"is_timeseries\":false,\"max_cores_per_iteration\":1,\"max_concurrent_iterations\":2,\"iteration_timeout_minutes\":null,\"mem_in_mb\":null,\"enforce_time_on_windows\":false,\"experiment_timeout_minutes\":8640,\"experiment_exit_score\":null,\"whitelist_models\":null,\"blacklist_algos\":[\"TensorFlowLinearClassifier\",\"TensorFlowDNN\"],\"supported_models\":[\"XGBoostClassifier\",\"BernoulliNaiveBayes\",\"GradientBoosting\",\"TensorFlowDNN\",\"LogisticRegression\",\"TensorFlowLinearClassifier\",\"AveragedPerceptronClassifier\",\"RandomForest\",\"DecisionTree\",\"ExtremeRandomTrees\",\"LightGBM\",\"SVM\",\"KNN\",\"LinearSVM\",\"SGD\",\"MultinomialNaiveBayes\"],\"private_models\":[\"TabnetClassifier\"],\"auto_blacklist\":true,\"blacklist_samples_reached\":false,\"exclude_nan_labels\":true,\"verbosity\":20,\"_debug_log\":\"azureml_automl.log\",\"show_warnings\":false,\"model_explainability\":true,\"service_url\":null,\"sdk_url\":null,\"sdk_packages\":null,\"enable_onnx_compatible_models\":false,\"enable_split_onnx_featurizer_estimator_models\":false,\"vm_type\":\"STANDARD_DS11_V2\",\"telemetry_verbosity\":20,\"send_telemetry\":true,\"enable_dnn\":false,\"scenario\":\"SDK-1.13.0\",\"environment_label\":null,\"save_mlflow\":false,\"enable_categorical_indicators\":false,\"force_text_dnn\":false,\"enable_feature_sweeping\":true,\"enable_early_stopping\":true,\"early_stopping_n_iters\":10,\"arguments\":null,\"dataset_id\":null,\"hyperdrive_config\":null,\"validation_dataset_id\":null,\"run_source\":null,\"metrics\":null,\"enable_metric_confidence\":false,\"enable_ensembling\":true,\"enable_stack_ensembling\":true,\"ensemble_iterations\":4,\"enable_tf\":false,\"enable_subsampling\":false,\"subsample_seed\":null,\"enable_nimbusml\":false,\"enable_streaming\":false,\"force_streaming\":false,\"track_child_runs\":true,\"allowed_private_models\":[],\"label_column_name\":\"Diabetic\",\"weight_column_name\":null,\"cv_split_column_names\":null,\"enable_local_managed\":false,\"_local_managed_run_id\":null,\"cost_mode\":1,\"lag_length\":0,\"metric_operation\":\"maximize\",\"preprocess\":true}',\n",
       "  'DataPrepJsonString': '{\\\\\"training_data\\\\\": {\\\\\"datasetId\\\\\": \\\\\"44827cdb-6fd0-40df-a255-15921ebfb265\\\\\"}, \\\\\"validation_data\\\\\": {\\\\\"datasetId\\\\\": \\\\\"f1025271-93d9-4c81-a13a-105f2ab07ddf\\\\\"}, \\\\\"datasets\\\\\": 0}',\n",
       "  'EnableSubsampling': 'False',\n",
       "  'runTemplate': 'AutoML',\n",
       "  'azureml.runsource': 'automl',\n",
       "  'display_task_type': 'classification',\n",
       "  'dependencies_versions': '{\"azureml-widgets\": \"1.37.0\", \"azureml-train\": \"1.37.0\", \"azureml-train-restclients-hyperdrive\": \"1.37.0\", \"azureml-train-core\": \"1.37.0\", \"azureml-train-automl\": \"1.37.0\", \"azureml-train-automl-runtime\": \"1.37.0\", \"azureml-train-automl-client\": \"1.37.0\", \"azureml-tensorboard\": \"1.37.0\", \"azureml-telemetry\": \"1.37.0\", \"azureml-sdk\": \"1.37.0\", \"azureml-samples\": \"0+unknown\", \"azureml-responsibleai\": \"1.37.0\", \"azureml-pipeline\": \"1.37.0\", \"azureml-pipeline-steps\": \"1.37.0\", \"azureml-pipeline-core\": \"1.37.0\", \"azureml-opendatasets\": \"1.37.0\", \"azureml-mlflow\": \"1.37.0\", \"azureml-interpret\": \"1.37.0\", \"azureml-inference-server-http\": \"0.4.2\", \"azureml-explain-model\": \"1.37.0\", \"azureml-defaults\": \"1.37.0\", \"azureml-dataset-runtime\": \"1.37.0\", \"azureml-dataprep\": \"2.25.0\", \"azureml-dataprep-rslex\": \"2.1.0\", \"azureml-dataprep-native\": \"38.0.0\", \"azureml-datadrift\": \"1.37.0\", \"azureml-core\": \"1.37.0\", \"azureml-contrib-services\": \"1.37.0\", \"azureml-contrib-server\": \"1.37.0\", \"azureml-contrib-reinforcementlearning\": \"1.37.0\", \"azureml-contrib-pipeline-steps\": \"1.37.0\", \"azureml-contrib-notebook\": \"1.37.0\", \"azureml-contrib-fairness\": \"1.37.0\", \"azureml-contrib-dataset\": \"1.37.0\", \"azureml-contrib-automl-pipeline-steps\": \"1.37.0\", \"azureml-cli-common\": \"1.37.0\", \"azureml-automl-runtime\": \"1.37.0\", \"azureml-automl-dnn-nlp\": \"1.37.0\", \"azureml-automl-core\": \"1.37.0\", \"azureml-accel-models\": \"1.37.0\"}',\n",
       "  '_aml_system_scenario_identification': 'Remote.Parent',\n",
       "  'ClientType': 'SDK',\n",
       "  'environment_cpu_name': 'AzureML-AutoML',\n",
       "  'environment_cpu_label': 'py36',\n",
       "  'environment_gpu_name': 'AzureML-AutoML-GPU',\n",
       "  'environment_gpu_label': 'py36',\n",
       "  'root_attribution': 'automl',\n",
       "  'attribution': 'AutoML',\n",
       "  'Orchestrator': 'AutoML',\n",
       "  'CancelUri': 'https://eastus.api.azureml.ms/jasmine/v1.0/subscriptions/b55b31b5-96d1-46b1-b8df-55cda31eae9f/resourceGroups/mlresourcegroup/providers/Microsoft.MachineLearningServices/workspaces/mlresource-aml/experimentids/9e4e4b25-a991-4bd1-9018-ecf4cc15715b/cancel/AutoML_0e4f28fb-20a4-431d-b85d-b105919a0920',\n",
       "  'azureml.git.repository_uri': 'https://github.com/MicrosoftLearning/mslearn-dp100',\n",
       "  'mlflow.source.git.repoURL': 'https://github.com/MicrosoftLearning/mslearn-dp100',\n",
       "  'azureml.git.branch': 'main',\n",
       "  'mlflow.source.git.branch': 'main',\n",
       "  'azureml.git.commit': '2f312026ea2eaff775c748f1d06f244f1f9ac4e8',\n",
       "  'mlflow.source.git.commit': '2f312026ea2eaff775c748f1d06f244f1f9ac4e8',\n",
       "  'azureml.git.dirty': 'True',\n",
       "  'ClientSdkVersion': '1.38.0',\n",
       "  'snapshotId': '00000000-0000-0000-0000-000000000000',\n",
       "  'SetupRunId': 'AutoML_0e4f28fb-20a4-431d-b85d-b105919a0920_setup',\n",
       "  'SetupRunContainerId': 'dcid.AutoML_0e4f28fb-20a4-431d-b85d-b105919a0920_setup',\n",
       "  'FeaturizationRunJsonPath': 'featurizer_container.json',\n",
       "  'FeaturizationRunId': 'AutoML_0e4f28fb-20a4-431d-b85d-b105919a0920_featurize',\n",
       "  'ProblemInfoJsonString': '{\"dataset_num_categorical\": 0, \"is_sparse\": true, \"subsampling\": false, \"has_extra_col\": true, \"dataset_classes\": 2, \"dataset_features\": 23, \"dataset_samples\": 10555, \"single_frequency_class_detected\": false}',\n",
       "  'ModelExplainRunId': 'AutoML_0e4f28fb-20a4-431d-b85d-b105919a0920_ModelExplain'},\n",
       " 'inputDatasets': [{'dataset': {'id': '44827cdb-6fd0-40df-a255-15921ebfb265'}, 'consumptionDetails': {'type': 'RunInput', 'inputName': 'training_data', 'mechanism': 'Direct'}}, {'dataset': {'id': 'f1025271-93d9-4c81-a13a-105f2ab07ddf'}, 'consumptionDetails': {'type': 'RunInput', 'inputName': 'validation_data', 'mechanism': 'Direct'}}],\n",
       " 'outputDatasets': [],\n",
       " 'logFiles': {},\n",
       " 'submittedBy': 'Anton Georgescu'}"
      ]
     },
     "execution_count": 7,
     "metadata": {},
     "output_type": "execute_result"
    },
    {
     "data": {
      "application/vnd.jupyter.widget-view+json": {
       "model_id": "c0fa7d80d8134aa98095b5f791bde352",
       "version_major": 2,
       "version_minor": 0
      },
      "text/plain": [
       "_UserRunWidget(widget_settings={'childWidgetDisplay': 'popup', 'send_telemetry': False, 'log_level': 'INFO', '…"
      ]
     },
     "metadata": {},
     "output_type": "display_data"
    },
    {
     "data": {
      "application/aml.mini.widget.v1": "{\"loading\": true}"
     },
     "metadata": {},
     "output_type": "display_data"
    }
   ],
   "source": [
    "from azureml.core.experiment import Experiment\n",
    "from azureml.widgets import RunDetails\n",
    "\n",
    "print('Submitting Auto ML experiment...')\n",
    "automl_experiment = Experiment(ws, 'mslearn-diabetes-automl-sdk')\n",
    "automl_run = automl_experiment.submit(automl_config)\n",
    "RunDetails(automl_run).show()\n",
    "automl_run.wait_for_completion(show_output=True)"
   ]
  },
  {
   "cell_type": "markdown",
   "metadata": {},
   "source": [
    "## View child run details\n",
    "\n",
    "When the experiment has completed, view the output in the widget, and click the run that produced the best result to see its details.\n",
    "\n",
    "Then click the link to view the experiment details in Azure Machine Learning studio and view the overall experiment details before viewing the details for the individual run that produced the best result. There's lots of information here about the performance of the model generated.\n",
    "\n",
    "You can also retrieve all of the child runs and view their metrics using the SDK:"
   ]
  },
  {
   "cell_type": "code",
   "execution_count": 8,
   "metadata": {},
   "outputs": [
    {
     "name": "stdout",
     "output_type": "stream",
     "text": [
      "Run ID AutoML_0e4f28fb-20a4-431d-b85d-b105919a0920_3\n",
      "\t {'f1_score_weighted': 0.9454759286120484}\n",
      "\t {'AUC_micro': 0.9813186287597064}\n",
      "\t {'norm_macro_recall': 0.8539973200897073}\n",
      "\t {'log_loss': 0.32366273791227856}\n",
      "\t {'accuracy': 0.9462317210348706}\n",
      "\t {'AUC_macro': 0.9899729045476866}\n",
      "\t {'average_precision_score_weighted': 0.9905877798573827}\n",
      "\t {'recall_score_weighted': 0.9462317210348706}\n",
      "\t {'balanced_accuracy': 0.9269986600448537}\n",
      "\t {'precision_score_micro': 0.9462317210348706}\n",
      "\t {'recall_score_macro': 0.9269986600448537}\n",
      "\t {'precision_score_weighted': 0.9471399640259716}\n",
      "\t {'weighted_accuracy': 0.9615932200334705}\n",
      "\t {'f1_score_macro': 0.9378305998179197}\n",
      "\t {'average_precision_score_micro': 0.9816117723821074}\n",
      "\t {'precision_score_macro': 0.951733696433343}\n",
      "\t {'f1_score_micro': 0.9462317210348706}\n",
      "\t {'matthews_correlation': 0.8783841598620644}\n",
      "\t {'AUC_weighted': 0.9899729045476866}\n",
      "\t {'recall_score_micro': 0.9462317210348706}\n",
      "\t {'average_precision_score_macro': 0.9884273580959778}\n",
      "\t {'accuracy_table': 'aml://artifactId/ExperimentRun/dcid.AutoML_0e4f28fb-20a4-431d-b85d-b105919a0920_3/accuracy_table'}\n",
      "\t {'confusion_matrix': 'aml://artifactId/ExperimentRun/dcid.AutoML_0e4f28fb-20a4-431d-b85d-b105919a0920_3/confusion_matrix'}\n",
      "Run ID AutoML_0e4f28fb-20a4-431d-b85d-b105919a0920_2\n",
      "\t {'balanced_accuracy': 0.9452788579332958}\n",
      "\t {'average_precision_score_micro': 0.9916360004915719}\n",
      "\t {'recall_score_macro': 0.9452788579332958}\n",
      "\t {'norm_macro_recall': 0.8905577158665916}\n",
      "\t {'recall_score_weighted': 0.9523059617547807}\n",
      "\t {'f1_score_macro': 0.9461858998080295}\n",
      "\t {'recall_score_micro': 0.9523059617547807}\n",
      "\t {'average_precision_score_weighted': 0.9908730553007605}\n",
      "\t {'precision_score_micro': 0.9523059617547807}\n",
      "\t {'matthews_correlation': 0.8923892448229966}\n",
      "\t {'precision_score_macro': 0.9471122702591099}\n",
      "\t {'accuracy': 0.9523059617547807}\n",
      "\t {'AUC_weighted': 0.9902927339233877}\n",
      "\t {'log_loss': 0.12239111107696071}\n",
      "\t {'f1_score_micro': 0.9523059617547807}\n",
      "\t {'weighted_accuracy': 0.9579185290093026}\n",
      "\t {'AUC_macro': 0.9902927339233878}\n",
      "\t {'average_precision_score_macro': 0.9887602234083721}\n",
      "\t {'AUC_micro': 0.991432139598973}\n",
      "\t {'f1_score_weighted': 0.9522569685971016}\n",
      "\t {'precision_score_weighted': 0.9522234676476355}\n",
      "\t {'confusion_matrix': 'aml://artifactId/ExperimentRun/dcid.AutoML_0e4f28fb-20a4-431d-b85d-b105919a0920_2/confusion_matrix'}\n",
      "\t {'accuracy_table': 'aml://artifactId/ExperimentRun/dcid.AutoML_0e4f28fb-20a4-431d-b85d-b105919a0920_2/accuracy_table'}\n",
      "Run ID AutoML_0e4f28fb-20a4-431d-b85d-b105919a0920_worker_0\n",
      "Run ID AutoML_0e4f28fb-20a4-431d-b85d-b105919a0920_0\n",
      "\t {'precision_score_micro': 0.9520809898762654}\n",
      "\t {'f1_score_weighted': 0.952035905457969}\n",
      "\t {'average_precision_score_micro': 0.9918359683181054}\n",
      "\t {'recall_score_macro': 0.9451102807249344}\n",
      "\t {'log_loss': 0.1186120500342212}\n",
      "\t {'recall_score_micro': 0.9520809898762654}\n",
      "\t {'recall_score_weighted': 0.9520809898762654}\n",
      "\t {'AUC_weighted': 0.9904812577250306}\n",
      "\t {'precision_score_weighted': 0.9520038306966419}\n",
      "\t {'AUC_macro': 0.9904812577250306}\n",
      "\t {'matthews_correlation': 0.8918972733002116}\n",
      "\t {'weighted_accuracy': 0.9576485145517856}\n",
      "\t {'accuracy': 0.9520809898762654}\n",
      "\t {'f1_score_macro': 0.9459413118209691}\n",
      "\t {'norm_macro_recall': 0.8902205614498688}\n",
      "\t {'balanced_accuracy': 0.9451102807249344}\n",
      "\t {'f1_score_micro': 0.9520809898762654}\n",
      "\t {'average_precision_score_weighted': 0.9910085472336622}\n",
      "\t {'AUC_micro': 0.9916008305485999}\n",
      "\t {'average_precision_score_macro': 0.9888863976623419}\n",
      "\t {'precision_score_macro': 0.9467885716011675}\n",
      "\t {'confusion_matrix': 'aml://artifactId/ExperimentRun/dcid.AutoML_0e4f28fb-20a4-431d-b85d-b105919a0920_0/confusion_matrix'}\n",
      "\t {'accuracy_table': 'aml://artifactId/ExperimentRun/dcid.AutoML_0e4f28fb-20a4-431d-b85d-b105919a0920_0/accuracy_table'}\n",
      "Run ID AutoML_0e4f28fb-20a4-431d-b85d-b105919a0920_worker_1\n",
      "Run ID AutoML_0e4f28fb-20a4-431d-b85d-b105919a0920_1\n",
      "\t {'weighted_accuracy': 0.951311550164289}\n",
      "\t {'accuracy': 0.944206974128234}\n",
      "\t {'AUC_macro': 0.9882270647231617}\n",
      "\t {'recall_score_macro': 0.9353118302218928}\n",
      "\t {'norm_macro_recall': 0.8706236604437856}\n",
      "\t {'f1_score_micro': 0.944206974128234}\n",
      "\t {'AUC_weighted': 0.9882270647231618}\n",
      "\t {'f1_score_macro': 0.9369393323381163}\n",
      "\t {'precision_score_micro': 0.944206974128234}\n",
      "\t {'recall_score_weighted': 0.944206974128234}\n",
      "\t {'precision_score_weighted': 0.9440467334517999}\n",
      "\t {'balanced_accuracy': 0.9353118302218928}\n",
      "\t {'precision_score_macro': 0.9386313269550405}\n",
      "\t {'recall_score_micro': 0.944206974128234}\n",
      "\t {'f1_score_weighted': 0.9441010177866949}\n",
      "\t {'matthews_correlation': 0.8739368529349385}\n",
      "\t {'average_precision_score_micro': 0.9898548572689291}\n",
      "\t {'log_loss': 0.14557718390107108}\n",
      "\t {'average_precision_score_macro': 0.9863803228939675}\n",
      "\t {'average_precision_score_weighted': 0.9889316609728803}\n",
      "\t {'AUC_micro': 0.9896202682201284}\n",
      "\t {'confusion_matrix': 'aml://artifactId/ExperimentRun/dcid.AutoML_0e4f28fb-20a4-431d-b85d-b105919a0920_1/confusion_matrix'}\n",
      "\t {'accuracy_table': 'aml://artifactId/ExperimentRun/dcid.AutoML_0e4f28fb-20a4-431d-b85d-b105919a0920_1/accuracy_table'}\n",
      "Run ID AutoML_0e4f28fb-20a4-431d-b85d-b105919a0920_featurize\n",
      "Run ID AutoML_0e4f28fb-20a4-431d-b85d-b105919a0920_setup\n"
     ]
    }
   ],
   "source": [
    "for run in automl_run.get_children():\n",
    "    print('Run ID', run.id)\n",
    "    for metric in run.get_metrics():\n",
    "        print('\\t', run.get_metrics(metric))"
   ]
  },
  {
   "cell_type": "markdown",
   "metadata": {},
   "source": [
    "## Get the best run\n",
    "\n",
    "You can retrieve the best-performing run, and view its details like this:"
   ]
  },
  {
   "cell_type": "code",
   "execution_count": 9,
   "metadata": {},
   "outputs": [
    {
     "name": "stderr",
     "output_type": "stream",
     "text": [
      "WARNING:root:The version of the SDK does not match the version the model was trained on.\n",
      "WARNING:root:The consistency in the result may not be guaranteed.\n",
      "WARNING:root:Package:azureml-automl-core, training version:1.38.0, current version:1.37.0\n",
      "Package:azureml-automl-runtime, training version:1.38.0, current version:1.37.0\n",
      "Package:azureml-core, training version:1.38.0, current version:1.37.0\n",
      "Package:azureml-dataprep, training version:2.26.0, current version:2.25.0\n",
      "Package:azureml-dataprep-rslex, training version:2.2.0, current version:2.1.0\n",
      "Package:azureml-dataset-runtime, training version:1.38.0, current version:1.37.0\n",
      "Package:azureml-defaults, training version:1.38.0, current version:1.37.0\n",
      "Package:azureml-interpret, training version:1.38.0, current version:1.37.0\n",
      "Package:azureml-mlflow, training version:1.38.0, current version:1.37.0\n",
      "Package:azureml-pipeline-core, training version:1.38.0, current version:1.37.0\n",
      "Package:azureml-responsibleai, training version:1.38.0, current version:1.37.0\n",
      "Package:azureml-telemetry, training version:1.38.0, current version:1.37.0\n",
      "Package:azureml-train-automl-client, training version:1.38.0, current version:1.37.0\n",
      "Package:azureml-train-automl-runtime, training version:1.38.0, current version:1.37.0\n",
      "Package:azureml-train-core, training version:1.38.0, current version:1.37.0\n",
      "Package:azureml-train-restclients-hyperdrive, training version:1.38.0, current version:1.37.0\n",
      "WARNING:root:Please ensure the version of your local conda dependencies match the version on which your model was trained in order to properly retrieve your model.\n"
     ]
    },
    {
     "name": "stdout",
     "output_type": "stream",
     "text": [
      "Run(Experiment: mslearn-diabetes-automl-sdk,\n",
      "Id: AutoML_0e4f28fb-20a4-431d-b85d-b105919a0920_0,\n",
      "Type: None,\n",
      "Status: Completed)\n",
      "\n",
      "Best Model Definition:\n",
      "Pipeline(memory=None,\n",
      "         steps=[('datatransformer',\n",
      "                 DataTransformer(enable_dnn=False, enable_feature_sweeping=True, feature_sweeping_config={}, feature_sweeping_timeout=86400, featurization_config=None, force_text_dnn=False, is_cross_validation=False, is_onnx_compatible=False, observer=None, task='classification', working_dir='/mnt/batch/tasks/shared/LS_root/mounts/clusters/mlnode-alvianda/code/Users/Anton.Georgescu/mslearn-dp100')),\n",
      "                ('MaxAbsScaler', MaxAbsScaler(copy=True)),\n",
      "                ('LightGBMClassifier',\n",
      "                 LightGBMClassifier(min_data_in_leaf=20, n_jobs=1, problem_info=ProblemInfo(\n",
      "    gpu_training_param_dict={'processing_unit_type': 'cpu'}\n",
      "), random_state=None))],\n",
      "         verbose=False)\n",
      "\n",
      "Best Run Transformations:\n",
      "datatransformer\n",
      "MaxAbsScaler\n",
      "LightGBMClassifier\n",
      "\n",
      "Best Run Metrics:\n",
      "precision_score_micro 0.9520809898762654\n",
      "f1_score_weighted 0.952035905457969\n",
      "average_precision_score_micro 0.9918359683181054\n",
      "recall_score_macro 0.9451102807249344\n",
      "log_loss 0.1186120500342212\n",
      "recall_score_micro 0.9520809898762654\n",
      "recall_score_weighted 0.9520809898762654\n",
      "AUC_weighted 0.9904812577250306\n",
      "precision_score_weighted 0.9520038306966419\n",
      "AUC_macro 0.9904812577250306\n",
      "matthews_correlation 0.8918972733002116\n",
      "weighted_accuracy 0.9576485145517856\n",
      "accuracy 0.9520809898762654\n",
      "f1_score_macro 0.9459413118209691\n",
      "norm_macro_recall 0.8902205614498688\n",
      "balanced_accuracy 0.9451102807249344\n",
      "f1_score_micro 0.9520809898762654\n",
      "average_precision_score_weighted 0.9910085472336622\n",
      "AUC_micro 0.9916008305485999\n",
      "average_precision_score_macro 0.9888863976623419\n",
      "precision_score_macro 0.9467885716011675\n",
      "confusion_matrix aml://artifactId/ExperimentRun/dcid.AutoML_0e4f28fb-20a4-431d-b85d-b105919a0920_0/confusion_matrix\n",
      "accuracy_table aml://artifactId/ExperimentRun/dcid.AutoML_0e4f28fb-20a4-431d-b85d-b105919a0920_0/accuracy_table\n"
     ]
    }
   ],
   "source": [
    "best_run, fitted_model = automl_run.get_output()\n",
    "print(best_run)\n",
    "print('\\nBest Model Definition:')\n",
    "print(fitted_model)\n",
    "print('\\nBest Run Transformations:')\n",
    "for step in fitted_model.named_steps:\n",
    "    print(step)\n",
    "print('\\nBest Run Metrics:')\n",
    "best_run_metrics = best_run.get_metrics()\n",
    "for metric_name in best_run_metrics:\n",
    "    metric = best_run_metrics[metric_name]\n",
    "    print(metric_name, metric)"
   ]
  },
  {
   "cell_type": "markdown",
   "metadata": {},
   "source": [
    "Finally, having found the best performing model, you can register it."
   ]
  },
  {
   "cell_type": "code",
   "execution_count": 10,
   "metadata": {},
   "outputs": [
    {
     "name": "stdout",
     "output_type": "stream",
     "text": [
      "diabetes_model version: 10\n",
      "\t Training context : Auto ML\n",
      "\t AUC : 0.9904812577250306\n",
      "\t Accuracy : 0.9520809898762654\n",
      "\n",
      "\n",
      "diabetes_model version: 9\n",
      "\t Training context : Hyperdrive\n",
      "\t AUC : 0.9885804604667666\n",
      "\t Accuracy : 0.9457777777777778\n",
      "\n",
      "\n",
      "diabetes_model version: 8\n",
      "\t Training context : Inline Training\n",
      "\t AUC : 0.8773471316980943\n",
      "\t Accuracy : 0.89\n",
      "\n",
      "\n",
      "diabetes_model_2 version: 2\n",
      "\t Training context : Inline Training\n",
      "\t Dataset : data/diabetes.csv\n",
      "\t AUC : 0.8781382158316333\n",
      "\t Accuracy : 0.8926666666666667\n",
      "\n",
      "\n",
      "diabetes_model_2 version: 1\n",
      "\t Training context : Inline Training\n",
      "\t AUC : 0.8771033384745509\n",
      "\t Accuracy : 0.89\n",
      "\n",
      "\n",
      "diabetes_model version: 7\n",
      "\t Training context : Inline Training\n",
      "\t AUC : 0.876867008308871\n",
      "\t Accuracy : 0.8903333333333333\n",
      "\n",
      "\n",
      "diabetes_model version: 6\n",
      "\t Training context : Pipeline\n",
      "\t AUC : 0.8840825658444825\n",
      "\t Accuracy : 0.8986666666666666\n",
      "\n",
      "\n",
      "diabetes_model version: 5\n",
      "\t Training context : Compute cluster\n",
      "\t AUC : 0.8829475907382845\n",
      "\t Accuracy : 0.8988888888888888\n",
      "\n",
      "\n",
      "diabetes_model version: 4\n",
      "\t Training context : File dataset\n",
      "\t AUC : 0.8468331741963582\n",
      "\t Accuracy : 0.7793333333333333\n",
      "\n",
      "\n",
      "diabetes_model version: 3\n",
      "\t Training context : Tabular dataset\n",
      "\t AUC : 0.8568509052814499\n",
      "\t Accuracy : 0.7891111111111111\n",
      "\n",
      "\n",
      "diabetes_model version: 2\n",
      "\t Training context : Parameterized script\n",
      "\t AUC : 0.8483198169063138\n",
      "\t Accuracy : 0.774\n",
      "\n",
      "\n",
      "diabetes_model version: 1\n",
      "\t Training context : Script\n",
      "\t AUC : 0.8484929598487486\n",
      "\t Accuracy : 0.774\n",
      "\n",
      "\n",
      "AutoML087bab0670 version: 1\n",
      "\n",
      "\n"
     ]
    }
   ],
   "source": [
    "from azureml.core import Model\n",
    "\n",
    "# Register model\n",
    "best_run.register_model(model_path='outputs/model.pkl', model_name='diabetes_model',\n",
    "                        tags={'Training context':'Auto ML'},\n",
    "                        properties={'AUC': best_run_metrics['AUC_weighted'], 'Accuracy': best_run_metrics['accuracy']})\n",
    "\n",
    "# List registered models\n",
    "for model in Model.list(ws):\n",
    "    print(model.name, 'version:', model.version)\n",
    "    for tag_name in model.tags:\n",
    "        tag = model.tags[tag_name]\n",
    "        print ('\\t',tag_name, ':', tag)\n",
    "    for prop_name in model.properties:\n",
    "        prop = model.properties[prop_name]\n",
    "        print ('\\t',prop_name, ':', prop)\n",
    "    print('\\n')"
   ]
  },
  {
   "cell_type": "markdown",
   "metadata": {},
   "source": [
    "> **More Information**: For more information Automated Machine Learning, see the [Azure ML documentation](https://docs.microsoft.com/azure/machine-learning/how-to-configure-auto-train)."
   ]
  }
 ],
 "metadata": {
  "kernelspec": {
   "display_name": "Python 3.6 - AzureML",
   "language": "python",
   "name": "python3-azureml"
  },
  "language_info": {
   "codemirror_mode": {
    "name": "ipython",
    "version": 3
   },
   "file_extension": ".py",
   "mimetype": "text/x-python",
   "name": "python",
   "nbconvert_exporter": "python",
   "pygments_lexer": "ipython3",
   "version": "3.6.9"
  }
 },
 "nbformat": 4,
 "nbformat_minor": 2
}
