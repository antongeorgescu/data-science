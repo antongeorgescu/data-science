{
 "cells": [
  {
   "cell_type": "code",
   "execution_count": null,
   "metadata": {},
   "outputs": [],
   "source": [
    "!pip show azureml-core"
   ]
  },
  {
   "cell_type": "code",
   "execution_count": 1,
   "metadata": {},
   "outputs": [
    {
     "name": "stdout",
     "output_type": "stream",
     "text": [
      "Compute machines\n",
      "vmAzureML : VirtualMachine\n",
      "lsmlcomputedev : ComputeInstance\n",
      "liverpoolcluster : AmlCompute\n"
     ]
    }
   ],
   "source": [
    "from azureml.core import Workspace, ComputeTarget, Datastore, Dataset\n",
    "\n",
    "ws = Workspace.get(name='lsmltraining',\n",
    "                   subscription_id='bfb59099-69db-4d2b-887e-abcf6ccdb5c4',\n",
    "                   resource_group='AZR-C11-DV-122-01-RnD')\n",
    "\n",
    "\n",
    "print(\"Compute machines\")\n",
    "for compute_name in ws.compute_targets:\n",
    "    compute = ws.compute_targets[compute_name]\n",
    "    print(compute.name, \":\", compute.type)"
   ]
  },
  {
   "cell_type": "code",
   "execution_count": 6,
   "metadata": {},
   "outputs": [],
   "source": [
    "from azureml.core import Experiment\n",
    "import pandas as pd\n",
    "\n",
    "# create an experiment variable\n",
    "experiment = Experiment(workspace = ws, name = \"may-six-exp\")\n",
    "\n",
    "# start the experiment\n",
    "run = experiment.start_logging(snapshot_directory=None)\n",
    "\n",
    "# load the dataset and count the rows\n",
    "data = pd.read_csv('data/stockinfo_sp500.csv')\n",
    "row_count = (len(data))\n",
    "\n",
    "# Log the row count\n",
    "run.log('observations', row_count)\n",
    "\n",
    "# end the experiment\n",
    "run.complete()"
   ]
  },
  {
   "cell_type": "code",
   "execution_count": 7,
   "metadata": {},
   "outputs": [
    {
     "data": {
      "application/vnd.jupyter.widget-view+json": {
       "model_id": "9bb57ee64c4940908f513c90c612b479",
       "version_major": 2,
       "version_minor": 0
      },
      "text/plain": [
       "_UserRunWidget(widget_settings={'childWidgetDisplay': 'popup', 'send_telemetry': False, 'log_level': 'INFO', '…"
      ]
     },
     "metadata": {},
     "output_type": "display_data"
    },
    {
     "data": {
      "application/aml.mini.widget.v1": "{\"status\": \"Completed\", \"workbench_run_details_uri\": \"https://ml.azure.com/runs/c86f159f-bb5c-4035-bc7b-2142046b39db?wsid=/subscriptions/bfb59099-69db-4d2b-887e-abcf6ccdb5c4/resourcegroups/AZR-C11-DV-122-01-RnD/workspaces/lsmltraining&tid=f6b81657-e1f0-4671-824b-30d72a53b469\", \"run_id\": \"c86f159f-bb5c-4035-bc7b-2142046b39db\", \"run_properties\": {\"run_id\": \"c86f159f-bb5c-4035-bc7b-2142046b39db\", \"created_utc\": \"2022-05-05T10:48:23.219606Z\", \"properties\": {\"azureml.git.repository_uri\": \"git@github.com:antongeorgescu/data-science.git\", \"mlflow.source.git.repoURL\": \"git@github.com:antongeorgescu/data-science.git\", \"azureml.git.branch\": \"master\", \"mlflow.source.git.branch\": \"master\", \"azureml.git.commit\": \"af55ea246a77b177604dacb77ce47e724b7c8f8a\", \"mlflow.source.git.commit\": \"af55ea246a77b177604dacb77ce47e724b7c8f8a\", \"azureml.git.dirty\": \"True\"}, \"tags\": {}, \"end_time_utc\": \"2022-05-05T10:49:03.895137Z\", \"status\": \"Completed\", \"log_files\": {}, \"log_groups\": [], \"run_duration\": \"0:00:40\", \"run_number\": \"1651747703\", \"run_queued_details\": {\"status\": \"Completed\", \"details\": null}}, \"child_runs\": [], \"children_metrics\": {}, \"run_metrics\": [{\"name\": \"observations\", \"run_id\": \"c86f159f-bb5c-4035-bc7b-2142046b39db\", \"categories\": [0], \"series\": [{\"data\": [505]}]}], \"run_logs\": \"\\nRun is completed.\", \"graph\": {}, \"widget_settings\": {\"childWidgetDisplay\": \"popup\", \"send_telemetry\": false, \"log_level\": \"INFO\", \"sdk_version\": \"1.41.0\"}, \"loading\": false}"
     },
     "metadata": {},
     "output_type": "display_data"
    }
   ],
   "source": [
    "from azureml.widgets import RunDetails\n",
    "\n",
    "RunDetails(run).show()"
   ]
  },
  {
   "cell_type": "code",
   "execution_count": 8,
   "metadata": {},
   "outputs": [
    {
     "name": "stdout",
     "output_type": "stream",
     "text": [
      "{\n",
      "  \"observations\": 505\n",
      "}\n"
     ]
    }
   ],
   "source": [
    "import json\n",
    "\n",
    "# Get logged metrics\n",
    "metrics = run.get_metrics()\n",
    "print(json.dumps(metrics, indent=2))"
   ]
  },
  {
   "cell_type": "code",
   "execution_count": 9,
   "metadata": {},
   "outputs": [
    {
     "data": {
      "text/plain": [
       "<azureml._restclient.models.batch_artifact_content_information_dto.BatchArtifactContentInformationDto at 0x265f57b0508>"
      ]
     },
     "execution_count": 9,
     "metadata": {},
     "output_type": "execute_result"
    }
   ],
   "source": [
    "run.upload_file(name='outputs/stockinfo_sp500.csv', path_or_stream='data/stockinfo_sp500.csv')"
   ]
  },
  {
   "cell_type": "code",
   "execution_count": 10,
   "metadata": {},
   "outputs": [
    {
     "name": "stdout",
     "output_type": "stream",
     "text": [
      "[\n",
      "  \"outputs/stockinfo_sp500.csv\"\n",
      "]\n"
     ]
    }
   ],
   "source": [
    "import json\n",
    "\n",
    "files = run.get_file_names()\n",
    "print(json.dumps(files, indent=2))"
   ]
  }
 ],
 "metadata": {
  "interpreter": {
   "hash": "45295ec1b0c770769b4aea88b9197eaf9cc1d745d1b77167403f4dd97f1431b2"
  },
  "kernelspec": {
   "display_name": "Python 3.8.3 32-bit",
   "language": "python",
   "name": "python3"
  },
  "language_info": {
   "codemirror_mode": {
    "name": "ipython",
    "version": 3
   },
   "file_extension": ".py",
   "mimetype": "text/x-python",
   "name": "python",
   "nbconvert_exporter": "python",
   "pygments_lexer": "ipython3",
   "version": "3.7.9"
  },
  "orig_nbformat": 4
 },
 "nbformat": 4,
 "nbformat_minor": 2
}
